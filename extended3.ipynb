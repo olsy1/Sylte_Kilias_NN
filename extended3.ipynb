{
 "cells": [
  {
   "cell_type": "code",
   "execution_count": null,
   "metadata": {},
   "outputs": [
    {
     "name": "stderr",
     "output_type": "stream",
     "text": [
      "c:\\Users\\Ole\\anaconda3\\envs\\spyder-env\\lib\\site-packages\\outdated\\utils.py:14: OutdatedPackageWarning: The package pingouin is out of date. Your version is 0.5.3, the latest is 0.5.5.\n",
      "Set the environment variable OUTDATED_IGNORE=1 to disable these warnings.\n",
      "  return warn(\n"
     ]
    }
   ],
   "source": [
    "%load_ext autoreload\n",
    "%autoreload 2\n",
    "import numpy as np\n",
    "import get_data\n",
    "import matplotlib.pyplot as plt\n",
    "import population_activity as pop\n",
    "import helper_functions as hf\n",
    "import analysis\n",
    "import plots\n",
    "import statistics_test as st\n",
    "\n",
    "from IPython.display import display, HTML\n",
    "def print_large(text):\n",
    "    display(HTML(f\"<span style='font-size: 20px;'>{text}</span>\"))\n",
    "    "
   ]
  },
  {
   "cell_type": "code",
   "execution_count": 2,
   "metadata": {},
   "outputs": [],
   "source": [
    "datapaths = ['D:/Antje_CA1/data_sig/170.h5', 'D:/Antje_CA1/data_sig/51004.h5', 'D:/Antje_CA1/data_sig/51007.h5', 'D:/Antje_CA1/data_sig/63.h5', 'D:/Antje_CA1/data_sig/64.h5', 'D:/Antje_CA1/data_sig/65.h5']\n",
    "maps = ['19']\n",
    "\n",
    "correlations_between = np.zeros(len(datapaths))\n",
    "correlations_within = np.zeros(len(datapaths))\n",
    "correlations_shuff = np.zeros(len(datapaths))\n",
    "correlations_days = np.zeros(len(datapaths))\n",
    "\n",
    "\n",
    "for i,datapath in enumerate(datapaths):\n",
    "    hist_sorts1 = analysis.sort_maps_from_reference_AK(datapath, 'Context1', reference='17', maps = maps, transients = False, hist='hist', remove_inactive=False)\n",
    "    hist_sorts2 = analysis.sort_maps_from_reference_AK(datapath, 'Context2', reference='17', maps = maps, transients = False, hist='hist', remove_inactive=False)\n",
    "    correlations_between[i] = pop.ManifoldAnalysis.population_correlation(hist_sorts1[-1], hist_sorts2[-1])\n",
    "    correlations_days[i] = pop.ManifoldAnalysis.population_correlation(hist_sorts1[0], hist_sorts1[-1])\n",
    "\n",
    "    hist_shuff=analysis.sort_maps_from_reference_AK_shuffle(datapath, 'Context1', reference='17', maps = maps, transients = False, hist='hist',shuffle_type=None, remove_inactive=False)\n",
    "    correlations_shuff[i] = pop.ManifoldAnalysis.population_correlation(hist_sorts1[-1], hist_shuff[-1])\n",
    "    \n",
    "    w1,w2 =analysis.sort_maps_from_reference_within_session_AK(datapath, 'Context1', maps=['19'])\n",
    "    correlations_within[i] = pop.ManifoldAnalysis.population_correlation(w1[0], w2[0])\n"
   ]
  },
  {
   "cell_type": "code",
   "execution_count": 12,
   "metadata": {},
   "outputs": [
    {
     "data": {
      "text/html": [
       "<span style='font-size: 20px;'>\n",
       "==================================================</span>"
      ],
      "text/plain": [
       "<IPython.core.display.HTML object>"
      ]
     },
     "metadata": {},
     "output_type": "display_data"
    },
    {
     "data": {
      "text/html": [
       "<span style='font-size: 20px;'>Population vector correlation between context, within context and shuffeled</span>"
      ],
      "text/plain": [
       "<IPython.core.display.HTML object>"
      ]
     },
     "metadata": {},
     "output_type": "display_data"
    },
    {
     "data": {
      "text/html": [
       "<span style='font-size: 20px;'>==================================================</span>"
      ],
      "text/plain": [
       "<IPython.core.display.HTML object>"
      ]
     },
     "metadata": {},
     "output_type": "display_data"
    },
    {
     "data": {
      "image/png": "[encoded data removed]",
      "text/plain": [
       "<Figure size 300x500 with 1 Axes>"
      ]
     },
     "metadata": {},
     "output_type": "display_data"
    },
    {
     "data": {
      "text/html": [
       "<span style='font-size: 20px;'>RM ANOVA: between context, within context, shuffeled</span>"
      ],
      "text/plain": [
       "<IPython.core.display.HTML object>"
      ]
     },
     "metadata": {},
     "output_type": "display_data"
    },
    {
     "data": {
      "text/html": [
       "<div>\n",
       "<style scoped>\n",
       "    .dataframe tbody tr th:only-of-type {\n",
       "        vertical-align: middle;\n",
       "    }\n",
       "\n",
       "    .dataframe tbody tr th {\n",
       "        vertical-align: top;\n",
       "    }\n",
       "\n",
       "    .dataframe thead th {\n",
       "        text-align: right;\n",
       "    }\n",
       "</style>\n",
       "<table border=\"1\" class=\"dataframe\">\n",
       "  <thead>\n",
       "    <tr style=\"text-align: right;\">\n",
       "      <th></th>\n",
       "      <th>Source</th>\n",
       "      <th>SS</th>\n",
       "      <th>DF</th>\n",
       "      <th>MS</th>\n",
       "      <th>F</th>\n",
       "      <th>p-unc</th>\n",
       "      <th>ng2</th>\n",
       "      <th>eps</th>\n",
       "    </tr>\n",
       "  </thead>\n",
       "  <tbody>\n",
       "    <tr>\n",
       "      <th>0</th>\n",
       "      <td>time</td>\n",
       "      <td>2.250996</td>\n",
       "      <td>2</td>\n",
       "      <td>1.125498</td>\n",
       "      <td>233.864153</td>\n",
       "      <td>4.018788e-09</td>\n",
       "      <td>0.9726</td>\n",
       "      <td>0.538497</td>\n",
       "    </tr>\n",
       "    <tr>\n",
       "      <th>1</th>\n",
       "      <td>Error</td>\n",
       "      <td>0.048126</td>\n",
       "      <td>10</td>\n",
       "      <td>0.004813</td>\n",
       "      <td>NaN</td>\n",
       "      <td>NaN</td>\n",
       "      <td>NaN</td>\n",
       "      <td>NaN</td>\n",
       "    </tr>\n",
       "  </tbody>\n",
       "</table>\n",
       "</div>"
      ],
      "text/plain": [
       "  Source        SS  DF        MS           F         p-unc     ng2       eps\n",
       "0   time  2.250996   2  1.125498  233.864153  4.018788e-09  0.9726  0.538497\n",
       "1  Error  0.048126  10  0.004813         NaN           NaN     NaN       NaN"
      ]
     },
     "metadata": {},
     "output_type": "display_data"
    },
    {
     "data": {
      "text/html": [
       "<span style='font-size: 20px;'>Post hoc: </span>"
      ],
      "text/plain": [
       "<IPython.core.display.HTML object>"
      ]
     },
     "metadata": {},
     "output_type": "display_data"
    },
    {
     "data": {
      "text/html": [
       "<div>\n",
       "<style scoped>\n",
       "    .dataframe tbody tr th:only-of-type {\n",
       "        vertical-align: middle;\n",
       "    }\n",
       "\n",
       "    .dataframe tbody tr th {\n",
       "        vertical-align: top;\n",
       "    }\n",
       "\n",
       "    .dataframe thead th {\n",
       "        text-align: right;\n",
       "    }\n",
       "</style>\n",
       "<table border=\"1\" class=\"dataframe\">\n",
       "  <thead>\n",
       "    <tr style=\"text-align: right;\">\n",
       "      <th></th>\n",
       "      <th>Timepoint 1</th>\n",
       "      <th>Timepoint 2</th>\n",
       "      <th>Test Used</th>\n",
       "      <th>Statistic</th>\n",
       "      <th>p-value</th>\n",
       "      <th>Adjusted p-value (bonferroni)</th>\n",
       "      <th>Significance</th>\n",
       "      <th>Effect Size</th>\n",
       "      <th>Effect Size Type</th>\n",
       "      <th>Mean Diff</th>\n",
       "      <th>SD Diff</th>\n",
       "      <th>Normal Dist.</th>\n",
       "      <th>Normality p-value</th>\n",
       "    </tr>\n",
       "  </thead>\n",
       "  <tbody>\n",
       "    <tr>\n",
       "      <th>0</th>\n",
       "      <td>T1</td>\n",
       "      <td>T2</td>\n",
       "      <td>t-test</td>\n",
       "      <td>6.7368</td>\n",
       "      <td>0.0011</td>\n",
       "      <td>0.0033</td>\n",
       "      <td>**</td>\n",
       "      <td>2.7503</td>\n",
       "      <td>Cohen's d</td>\n",
       "      <td>0.0970</td>\n",
       "      <td>0.0353</td>\n",
       "      <td>True</td>\n",
       "      <td>0.1386</td>\n",
       "    </tr>\n",
       "    <tr>\n",
       "      <th>1</th>\n",
       "      <td>T1</td>\n",
       "      <td>T3</td>\n",
       "      <td>t-test</td>\n",
       "      <td>-16.1331</td>\n",
       "      <td>1.6673e-05</td>\n",
       "      <td>5.0018e-05</td>\n",
       "      <td>***</td>\n",
       "      <td>-6.5863</td>\n",
       "      <td>Cohen's d</td>\n",
       "      <td>-0.6970</td>\n",
       "      <td>0.1058</td>\n",
       "      <td>True</td>\n",
       "      <td>0.1761</td>\n",
       "    </tr>\n",
       "    <tr>\n",
       "      <th>2</th>\n",
       "      <td>T2</td>\n",
       "      <td>T3</td>\n",
       "      <td>t-test</td>\n",
       "      <td>-15.1699</td>\n",
       "      <td>2.2562e-05</td>\n",
       "      <td>6.7686e-05</td>\n",
       "      <td>***</td>\n",
       "      <td>-6.1931</td>\n",
       "      <td>Cohen's d</td>\n",
       "      <td>-0.7939</td>\n",
       "      <td>0.1282</td>\n",
       "      <td>True</td>\n",
       "      <td>0.7947</td>\n",
       "    </tr>\n",
       "  </tbody>\n",
       "</table>\n",
       "</div>"
      ],
      "text/plain": [
       "  Timepoint 1 Timepoint 2 Test Used  Statistic     p-value  \\\n",
       "0          T1          T2    t-test     6.7368      0.0011   \n",
       "1          T1          T3    t-test   -16.1331  1.6673e-05   \n",
       "2          T2          T3    t-test   -15.1699  2.2562e-05   \n",
       "\n",
       "  Adjusted p-value (bonferroni) Significance  Effect Size Effect Size Type  \\\n",
       "0                        0.0033           **       2.7503        Cohen's d   \n",
       "1                    5.0018e-05          ***      -6.5863        Cohen's d   \n",
       "2                    6.7686e-05          ***      -6.1931        Cohen's d   \n",
       "\n",
       "   Mean Diff  SD Diff  Normal Dist. Normality p-value  \n",
       "0     0.0970   0.0353          True            0.1386  \n",
       "1    -0.6970   0.1058          True            0.1761  \n",
       "2    -0.7939   0.1282          True            0.7947  "
      ]
     },
     "metadata": {},
     "output_type": "display_data"
    }
   ],
   "source": [
    "print_large('\\n' + '='*50)\n",
    "print_large('Population vector correlation between context, within context and shuffeled')\n",
    "print_large('='*50)\n",
    "\n",
    "fig, ax = plt.subplots(figsize=(3, 5))\n",
    "plots.boxplot_with_points_and_lines(np.array([correlations_between, correlations_shuff, correlations_within]).T, ['between','shuff', 'within'],ax, '',ylim=[-0.1,1])\n",
    "plt.show()  \n",
    "print_large('RM ANOVA: between context, within context, shuffeled')\n",
    "display(st.repeated_measures_anova_single_condition(np.array([correlations_between, correlations_shuff, correlations_within]).T))\n",
    "print_large('Post hoc: ')\n",
    "display(st.post_hoc_timepoints(np.array([correlations_between, correlations_shuff, correlations_within])))"
   ]
  },
  {
   "cell_type": "code",
   "execution_count": 3,
   "metadata": {},
   "outputs": [],
   "source": [
    "datapaths = ['D:/Antje_CA1/data_sig/170.h5', 'D:/Antje_CA1/data_sig/51004.h5', 'D:/Antje_CA1/data_sig/51007.h5', 'D:/Antje_CA1/data_sig/63.h5', 'D:/Antje_CA1/data_sig/64.h5', 'D:/Antje_CA1/data_sig/65.h5']\n",
    "\n",
    "results = []\n",
    "results_shuff = []\n",
    "\n",
    "for datapath in datapaths:\n",
    "    scores_test, scores_new_list, predictions_test, predictions_new_list, y_test, y_new_list = analysis.decode_position_between(datapath, '19', \n",
    "        'Context1', '19', 'Context2', model='gnb', shuffle=False)\n",
    "    results.append({\n",
    "        'datapath': datapath,\n",
    "        'scores_test': scores_test,\n",
    "        'scores_new_list': scores_new_list,\n",
    "        'predictions_test': predictions_test,\n",
    "        'predictions_new_list': predictions_new_list,\n",
    "        'y_test': y_test,\n",
    "        'y_new_list': y_new_list\n",
    "    })\n",
    "\n",
    "    scores_test, scores_new_list, predictions_test, predictions_new_list, y_test, y_new_list = analysis.decode_position_between(datapath, '19', \n",
    "        'Context1', '19', 'Context2', model='gnb', shuffle=True)\n",
    "    \n",
    "    results_shuff.append({\n",
    "        'datapath': datapath,\n",
    "        'scores_test': scores_test,\n",
    "        'scores_new_list': scores_new_list,\n",
    "        'predictions_test': predictions_test,\n",
    "        'predictions_new_list': predictions_new_list,\n",
    "        'y_test': y_test,\n",
    "        'y_new_list': y_new_list\n",
    "    })"
   ]
  },
  {
   "cell_type": "code",
   "execution_count": 13,
   "metadata": {},
   "outputs": [
    {
     "data": {
      "text/html": [
       "<span style='font-size: 20px;'>\n",
       "==================================================</span>"
      ],
      "text/plain": [
       "<IPython.core.display.HTML object>"
      ]
     },
     "metadata": {},
     "output_type": "display_data"
    },
    {
     "data": {
      "text/html": [
       "<span style='font-size: 20px;'>decoding (MAE) between context, within context and shuffeled</span>"
      ],
      "text/plain": [
       "<IPython.core.display.HTML object>"
      ]
     },
     "metadata": {},
     "output_type": "display_data"
    },
    {
     "data": {
      "text/html": [
       "<span style='font-size: 20px;'>==================================================</span>"
      ],
      "text/plain": [
       "<IPython.core.display.HTML object>"
      ]
     },
     "metadata": {},
     "output_type": "display_data"
    },
    {
     "data": {
      "image/png": "[encoded data removed]",
      "text/plain": [
       "<Figure size 300x500 with 1 Axes>"
      ]
     },
     "metadata": {},
     "output_type": "display_data"
    },
    {
     "data": {
      "text/html": [
       "<span style='font-size: 20px;'>RM ANOVA: between context, within context, shuffeled</span>"
      ],
      "text/plain": [
       "<IPython.core.display.HTML object>"
      ]
     },
     "metadata": {},
     "output_type": "display_data"
    },
    {
     "data": {
      "text/html": [
       "<div>\n",
       "<style scoped>\n",
       "    .dataframe tbody tr th:only-of-type {\n",
       "        vertical-align: middle;\n",
       "    }\n",
       "\n",
       "    .dataframe tbody tr th {\n",
       "        vertical-align: top;\n",
       "    }\n",
       "\n",
       "    .dataframe thead th {\n",
       "        text-align: right;\n",
       "    }\n",
       "</style>\n",
       "<table border=\"1\" class=\"dataframe\">\n",
       "  <thead>\n",
       "    <tr style=\"text-align: right;\">\n",
       "      <th></th>\n",
       "      <th>Source</th>\n",
       "      <th>SS</th>\n",
       "      <th>DF</th>\n",
       "      <th>MS</th>\n",
       "      <th>F</th>\n",
       "      <th>p-unc</th>\n",
       "      <th>ng2</th>\n",
       "      <th>eps</th>\n",
       "    </tr>\n",
       "  </thead>\n",
       "  <tbody>\n",
       "    <tr>\n",
       "      <th>0</th>\n",
       "      <td>time</td>\n",
       "      <td>112.199291</td>\n",
       "      <td>2</td>\n",
       "      <td>56.099646</td>\n",
       "      <td>229.386673</td>\n",
       "      <td>4.417590e-09</td>\n",
       "      <td>0.969837</td>\n",
       "      <td>0.920947</td>\n",
       "    </tr>\n",
       "    <tr>\n",
       "      <th>1</th>\n",
       "      <td>Error</td>\n",
       "      <td>2.445637</td>\n",
       "      <td>10</td>\n",
       "      <td>0.244564</td>\n",
       "      <td>NaN</td>\n",
       "      <td>NaN</td>\n",
       "      <td>NaN</td>\n",
       "      <td>NaN</td>\n",
       "    </tr>\n",
       "  </tbody>\n",
       "</table>\n",
       "</div>"
      ],
      "text/plain": [
       "  Source          SS  DF         MS           F         p-unc       ng2  \\\n",
       "0   time  112.199291   2  56.099646  229.386673  4.417590e-09  0.969837   \n",
       "1  Error    2.445637  10   0.244564         NaN           NaN       NaN   \n",
       "\n",
       "        eps  \n",
       "0  0.920947  \n",
       "1       NaN  "
      ]
     },
     "metadata": {},
     "output_type": "display_data"
    },
    {
     "data": {
      "text/html": [
       "<span style='font-size: 20px;'>Post hoc: </span>"
      ],
      "text/plain": [
       "<IPython.core.display.HTML object>"
      ]
     },
     "metadata": {},
     "output_type": "display_data"
    },
    {
     "data": {
      "text/html": [
       "<div>\n",
       "<style scoped>\n",
       "    .dataframe tbody tr th:only-of-type {\n",
       "        vertical-align: middle;\n",
       "    }\n",
       "\n",
       "    .dataframe tbody tr th {\n",
       "        vertical-align: top;\n",
       "    }\n",
       "\n",
       "    .dataframe thead th {\n",
       "        text-align: right;\n",
       "    }\n",
       "</style>\n",
       "<table border=\"1\" class=\"dataframe\">\n",
       "  <thead>\n",
       "    <tr style=\"text-align: right;\">\n",
       "      <th></th>\n",
       "      <th>Timepoint 1</th>\n",
       "      <th>Timepoint 2</th>\n",
       "      <th>Test Used</th>\n",
       "      <th>Statistic</th>\n",
       "      <th>p-value</th>\n",
       "      <th>Adjusted p-value (bonferroni)</th>\n",
       "      <th>Significance</th>\n",
       "      <th>Effect Size</th>\n",
       "      <th>Effect Size Type</th>\n",
       "      <th>Mean Diff</th>\n",
       "      <th>SD Diff</th>\n",
       "      <th>Normal Dist.</th>\n",
       "      <th>Normality p-value</th>\n",
       "    </tr>\n",
       "  </thead>\n",
       "  <tbody>\n",
       "    <tr>\n",
       "      <th>0</th>\n",
       "      <td>T1</td>\n",
       "      <td>T2</td>\n",
       "      <td>t-test</td>\n",
       "      <td>-1.4281</td>\n",
       "      <td>0.2126</td>\n",
       "      <td>0.6379</td>\n",
       "      <td></td>\n",
       "      <td>-0.5830</td>\n",
       "      <td>Cohen's d</td>\n",
       "      <td>-0.4117</td>\n",
       "      <td>0.7062</td>\n",
       "      <td>True</td>\n",
       "      <td>0.5745</td>\n",
       "    </tr>\n",
       "    <tr>\n",
       "      <th>1</th>\n",
       "      <td>T1</td>\n",
       "      <td>T3</td>\n",
       "      <td>t-test</td>\n",
       "      <td>15.9505</td>\n",
       "      <td>1.7632e-05</td>\n",
       "      <td>5.2897e-05</td>\n",
       "      <td>***</td>\n",
       "      <td>6.5118</td>\n",
       "      <td>Cohen's d</td>\n",
       "      <td>5.0783</td>\n",
       "      <td>0.7799</td>\n",
       "      <td>True</td>\n",
       "      <td>0.0799</td>\n",
       "    </tr>\n",
       "    <tr>\n",
       "      <th>2</th>\n",
       "      <td>T2</td>\n",
       "      <td>T3</td>\n",
       "      <td>t-test</td>\n",
       "      <td>22.3965</td>\n",
       "      <td>3.2974e-06</td>\n",
       "      <td>9.8923e-06</td>\n",
       "      <td>***</td>\n",
       "      <td>9.1433</td>\n",
       "      <td>Cohen's d</td>\n",
       "      <td>5.4900</td>\n",
       "      <td>0.6004</td>\n",
       "      <td>True</td>\n",
       "      <td>0.5666</td>\n",
       "    </tr>\n",
       "  </tbody>\n",
       "</table>\n",
       "</div>"
      ],
      "text/plain": [
       "  Timepoint 1 Timepoint 2 Test Used  Statistic     p-value  \\\n",
       "0          T1          T2    t-test    -1.4281      0.2126   \n",
       "1          T1          T3    t-test    15.9505  1.7632e-05   \n",
       "2          T2          T3    t-test    22.3965  3.2974e-06   \n",
       "\n",
       "  Adjusted p-value (bonferroni) Significance  Effect Size Effect Size Type  \\\n",
       "0                        0.6379                   -0.5830        Cohen's d   \n",
       "1                    5.2897e-05          ***       6.5118        Cohen's d   \n",
       "2                    9.8923e-06          ***       9.1433        Cohen's d   \n",
       "\n",
       "   Mean Diff  SD Diff  Normal Dist. Normality p-value  \n",
       "0    -0.4117   0.7062          True            0.5745  \n",
       "1     5.0783   0.7799          True            0.0799  \n",
       "2     5.4900   0.6004          True            0.5666  "
      ]
     },
     "metadata": {},
     "output_type": "display_data"
    }
   ],
   "source": [
    "print_large('\\n' + '='*50)\n",
    "print_large('decoding (MAE) between context, within context and shuffeled')\n",
    "print_large('='*50)\n",
    "\n",
    "mae_between = [res['scores_new_list'][0]['mae'] for res in results]\n",
    "mae_shuff = [res['scores_new_list'][0]['mae'] for res in results_shuff]\n",
    "mae_within = [res['scores_test']['mae'] for res in results]\n",
    "\n",
    "fig, ax = plt.subplots(figsize=(3, 5))\n",
    "plots.boxplot_with_points_and_lines(np.array([mae_between, mae_shuff, mae_within]).T, ['between','shuff', 'within'],ax, '',ylim=[0,10])\n",
    "\n",
    "plt.show()  \n",
    "print_large('RM ANOVA: between context, within context, shuffeled')\n",
    "display(st.repeated_measures_anova_single_condition(np.array([mae_between, mae_shuff, mae_within]).T))\n",
    "print_large('Post hoc: ')\n",
    "display(st.post_hoc_timepoints(np.array([mae_between, mae_shuff, mae_within])))"
   ]
  }
 ],
 "metadata": {
  "kernelspec": {
   "display_name": "spyder-env",
   "language": "python",
   "name": "python3"
  },
  "language_info": {
   "codemirror_mode": {
    "name": "ipython",
    "version": 3
   },
   "file_extension": ".py",
   "mimetype": "text/x-python",
   "name": "python",
   "nbconvert_exporter": "python",
   "pygments_lexer": "ipython3",
   "version": "3.8.18"
  }
 },
 "nbformat": 4,
 "nbformat_minor": 2
}
